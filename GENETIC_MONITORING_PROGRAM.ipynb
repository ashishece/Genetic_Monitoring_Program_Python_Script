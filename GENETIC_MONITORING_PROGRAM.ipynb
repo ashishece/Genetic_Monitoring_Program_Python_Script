{
 "cells": [
  {
   "cell_type": "code",
   "execution_count": 1,
   "id": "6015247d",
   "metadata": {},
   "outputs": [
    {
     "name": "stdout",
     "output_type": "stream",
     "text": [
      "C:\\Users\\ashis\\Desktop\n"
     ]
    }
   ],
   "source": [
    "cd Desktop"
   ]
  },
  {
   "cell_type": "code",
   "execution_count": 2,
   "id": "17d558fd",
   "metadata": {},
   "outputs": [],
   "source": [
    "import pandas as pd\n",
    "import requests\n",
    "from bs4 import BeautifulSoup\n",
    "from datetime import datetime\n",
    "from urllib.parse import urlparse"
   ]
  },
  {
   "cell_type": "code",
   "execution_count": 3,
   "id": "fc9cca10",
   "metadata": {},
   "outputs": [],
   "source": [
    "def search_gene(gene, start_date, num_records):\n",
    "    # Construct the search query URL\n",
    "    url = f\"https://pubmed.ncbi.nlm.nih.gov/?term={gene}+AND+({start_date}[Date+-+Publication]:3000[Date+-+Publication])\"\n",
    "\n",
    "    # Send a GET request to the URL\n",
    "    response = requests.get(url)\n",
    "\n",
    "    # Parse the HTML content of the page\n",
    "    soup = BeautifulSoup(response.text, 'html.parser')\n",
    "\n",
    "    # Extract search results\n",
    "    articles = soup.find_all('article', class_='full-docsum')\n",
    "\n",
    "    # Extract titles, abstracts, and URLs of the articles\n",
    "    results = []\n",
    "    for article in articles[:num_records]:\n",
    "        title_element = article.find('a', class_='docsum-title')\n",
    "        title = title_element.text.strip() if title_element else \"Title not found\"\n",
    "        \n",
    "        article_url_element = article.find('a', class_='docsum-title')\n",
    "        article_url = \"https://pubmed.ncbi.nlm.nih.gov\" + article_url_element['href'] if article_url_element else \"\"\n",
    "        \n",
    "        results.append({'Title': title, 'URL': article_url})\n",
    "\n",
    "    return results\n"
   ]
  },
  {
   "cell_type": "code",
   "execution_count": 5,
   "id": "70eab849",
   "metadata": {},
   "outputs": [
    {
     "name": "stdout",
     "output_type": "stream",
     "text": [
      "Enter the path to the CSV file containing gene list: C:/Users/ashis/Desktop/gene_list.csv\n",
      "Enter the number of records to fetch for each gene: 10\n",
      "Enter the date (YYYY-MM-DD) after which the records need to be fetched: 2022-01-02\n",
      "HTML results saved to gene_research_results.html\n"
     ]
    }
   ],
   "source": [
    "def main():\n",
    "    # Ask for the CSV file containing gene list\n",
    "    csv_file = input(\"Enter the path to the CSV file containing gene list: \")\n",
    "\n",
    "    # Load the CSV file into a DataFrame\n",
    "    df = pd.read_csv(csv_file)\n",
    "\n",
    "    # Ask for the number of records to fetch for each gene\n",
    "    num_records = int(input(\"Enter the number of records to fetch for each gene: \"))\n",
    "\n",
    "    # Ask for the date after which the records need to be fetched\n",
    "    start_date = input(\"Enter the date (YYYY-MM-DD) after which the records need to be fetched: \")\n",
    "\n",
    "    # Create an empty list to store DataFrames for each gene\n",
    "    result_dfs = []\n",
    "\n",
    "    # Iterate over each row in the DataFrame\n",
    "    for index, row in df.iterrows():\n",
    "        gene = row['Gene']\n",
    "\n",
    "        # Search for the gene within the specified date range\n",
    "        results = search_gene(gene, start_date, num_records)\n",
    "\n",
    "        # Create a DataFrame for the current gene's results\n",
    "        gene_df = pd.DataFrame(results)\n",
    "        gene_df['Gene'] = gene  # Add gene column\n",
    "        result_dfs.append(gene_df)\n",
    "\n",
    "    # Concatenate all DataFrames into a single result DataFrame\n",
    "    result_df = pd.concat(result_dfs, ignore_index=True)\n",
    "\n",
    "    # Make URLs clickable\n",
    "    result_df['URL'] = result_df['URL'].apply(lambda x: f'<a href=\"{x}\">{x}</a>')\n",
    "\n",
    "    # Save the result DataFrame to an HTML file\n",
    "    html_output_file = \"gene_research_results.html\"\n",
    "    result_df.to_html(html_output_file, index=False, escape=False)\n",
    "    print(f\"HTML results saved to {html_output_file}\")\n",
    "\n",
    "\n",
    "if __name__ == \"__main__\":\n",
    "    main()\n"
   ]
  },
  {
   "cell_type": "code",
   "execution_count": null,
   "id": "e4e2f9f8",
   "metadata": {},
   "outputs": [],
   "source": []
  },
  {
   "cell_type": "code",
   "execution_count": null,
   "id": "4768140f",
   "metadata": {},
   "outputs": [],
   "source": []
  },
  {
   "cell_type": "code",
   "execution_count": null,
   "id": "2c1d6732",
   "metadata": {},
   "outputs": [],
   "source": []
  }
 ],
 "metadata": {
  "kernelspec": {
   "display_name": "Python 3 (ipykernel)",
   "language": "python",
   "name": "python3"
  },
  "language_info": {
   "codemirror_mode": {
    "name": "ipython",
    "version": 3
   },
   "file_extension": ".py",
   "mimetype": "text/x-python",
   "name": "python",
   "nbconvert_exporter": "python",
   "pygments_lexer": "ipython3",
   "version": "3.11.5"
  }
 },
 "nbformat": 4,
 "nbformat_minor": 5
}
